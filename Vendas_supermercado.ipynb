{
  "cells": [
    {
      "cell_type": "markdown",
      "metadata": {
        "id": "CBPvPDx3zr5F"
      },
      "source": [
        "**Importando bibliotecas:**"
      ]
    },
    {
      "cell_type": "code",
      "execution_count": 3,
      "metadata": {
        "id": "5b7X1fqa43lc"
      },
      "outputs": [],
      "source": [
        "import pandas as pd\n",
        "\n",
        "df = pd.read_csv(\"supermarket_sales.csv\", sep=';')"
      ]
    },
    {
      "cell_type": "markdown",
      "metadata": {
        "id": "R0q7joUAzxcH"
      },
      "source": [
        "**Convertendo valores para o tipo Float:**"
      ]
    },
    {
      "cell_type": "code",
      "execution_count": 11,
      "metadata": {
        "colab": {
          "base_uri": "https://localhost:8080/"
        },
        "id": "PY4pK2W8z28R",
        "outputId": "9edad6d4-389a-4f0c-e6e9-7c8bc528ec72"
      },
      "outputs": [
        {
          "name": "stdout",
          "output_type": "stream",
          "text": [
            "Coluna 'Invoice ID' não foi convertida (não é decimal).\n",
            "Coluna 'Branch' não foi convertida (não é decimal).\n",
            "Coluna 'City' não foi convertida (não é decimal).\n",
            "Coluna 'Customer type' não foi convertida (não é decimal).\n",
            "Coluna 'Gender' não foi convertida (não é decimal).\n",
            "Coluna 'Product line' não foi convertida (não é decimal).\n",
            "Coluna 'Time' não foi convertida (não é decimal).\n",
            "Coluna 'Payment' não foi convertida (não é decimal).\n",
            "Coluna 'Hour_Formatted' não foi convertida (não é decimal).\n",
            "\n",
            "Tipos de dados das colunas após a conversão:\n",
            "Unnamed: 0                          int64\n",
            "Invoice ID                         object\n",
            "Branch                             object\n",
            "City                               object\n",
            "Customer type                      object\n",
            "Gender                             object\n",
            "Product line                       object\n",
            "Unit price                        float64\n",
            "Quantity                            int64\n",
            "Tax 5%                            float64\n",
            "Total                             float64\n",
            "Date                       datetime64[ns]\n",
            "Time                               object\n",
            "Payment                            object\n",
            "cogs                              float64\n",
            "gross margin percentage           float64\n",
            "gross income                      float64\n",
            "Rating                            float64\n",
            "Hour                                int64\n",
            "Hour_Formatted                     object\n",
            "dtype: object\n"
          ]
        }
      ],
      "source": [
        "def convert_decimal_columns_to_float(df):\n",
        "    for col in df.columns:\n",
        "        if df[col].dtype == 'object':\n",
        "            try:\n",
        "                df[col] = df[col].str.replace(',', '.').astype(float)\n",
        "                print(f\"Coluna '{col}' convertida para float.\")\n",
        "            except (ValueError, AttributeError):\n",
        "                print(f\"Coluna '{col}' não foi convertida (não é decimal).\")\n",
        "    return df\n",
        "\n",
        "df = convert_decimal_columns_to_float(df)\n",
        "\n",
        "print(\"\\nTipos de dados das colunas após a conversão:\")\n",
        "print(df.dtypes)"
      ]
    },
    {
      "cell_type": "markdown",
      "metadata": {},
      "source": [
        "**Convertendo valores para o tipo DateTime:**"
      ]
    },
    {
      "cell_type": "code",
      "execution_count": 5,
      "metadata": {},
      "outputs": [],
      "source": [
        "df['Date'] = pd.to_datetime(df['Date'], format='mixed')\n",
        "df['Time'] = pd.to_datetime(df['Time'], format='mixed').dt.time"
      ]
    },
    {
      "cell_type": "markdown",
      "metadata": {},
      "source": [
        "**Formatando valores Nulos e Duplicados:**"
      ]
    },
    {
      "cell_type": "code",
      "execution_count": 6,
      "metadata": {},
      "outputs": [],
      "source": [
        "df = df.dropna()\n",
        "df = df.drop_duplicates()"
      ]
    },
    {
      "cell_type": "markdown",
      "metadata": {
        "id": "CYpg1D77H836"
      },
      "source": [
        "---\n",
        "# Análise de vendas por Linha de Produto\n"
      ]
    },
    {
      "cell_type": "markdown",
      "metadata": {
        "id": "0Zcb3PZMB7Up"
      },
      "source": [
        "**Quantidade vendida por Linha de Produto:**"
      ]
    },
    {
      "cell_type": "code",
      "execution_count": 12,
      "metadata": {
        "colab": {
          "base_uri": "https://localhost:8080/"
        },
        "id": "B0iCRPmdu6wk",
        "outputId": "71a12ccc-2442-4bd3-a310-61b7101c1522"
      },
      "outputs": [
        {
          "name": "stdout",
          "output_type": "stream",
          "text": [
            "         Linha de Produto  Total de Vendas\n",
            "0       Health and beauty              854\n",
            "1  Electronic accessories              971\n",
            "2      Home and lifestyle              911\n",
            "3       Sports and travel              920\n",
            "4      Food and beverages              952\n",
            "5     Fashion accessories              902\n"
          ]
        }
      ],
      "source": [
        "results = []\n",
        "\n",
        "unique_product_line = df['Product line'].unique()\n",
        "\n",
        "for quantity_line_sales in unique_product_line:\n",
        "    filtered_df = df[df['Product line'] == quantity_line_sales]\n",
        "    total_quantity = filtered_df['Quantity'].sum()\n",
        "    \n",
        "    results.append({'Linha de Produto': quantity_line_sales, 'Total de Vendas': total_quantity})\n",
        "\n",
        "quantity_line_sales = pd.DataFrame(results)\n",
        "\n",
        "print(quantity_line_sales)"
      ]
    },
    {
      "cell_type": "markdown",
      "metadata": {
        "id": "ZQ3T2_XeBM-M"
      },
      "source": [
        "**Total vendido por Linha de Produto:**"
      ]
    },
    {
      "cell_type": "code",
      "execution_count": 13,
      "metadata": {
        "colab": {
          "base_uri": "https://localhost:8080/"
        },
        "id": "Tb_-HrfoBMhn",
        "outputId": "892d83f5-1050-4787-d1d4-82bdf7044e74"
      },
      "outputs": [
        {
          "name": "stdout",
          "output_type": "stream",
          "text": [
            "         Linha de Produto  Total de Vendas\n",
            "0  Electronic accessories       54337.5315\n",
            "1     Fashion accessories       54305.8950\n",
            "2      Food and beverages       56144.8440\n",
            "3       Health and beauty       49193.7390\n",
            "4      Home and lifestyle       53861.9130\n",
            "5       Sports and travel       55122.8265\n"
          ]
        }
      ],
      "source": [
        "sales_product_line = df.groupby('Product line')['Total'].sum()\n",
        "sales_product_line = sales_product_line.reset_index()\n",
        "sales_product_line.columns = ['Linha de Produto', 'Total de Vendas']\n",
        "\n",
        "print(sales_product_line)"
      ]
    },
    {
      "cell_type": "markdown",
      "metadata": {
        "id": "w1nPAo8YuEMp"
      },
      "source": [
        "**Média de vendas por Linha de Produto:**"
      ]
    },
    {
      "cell_type": "code",
      "execution_count": 14,
      "metadata": {
        "colab": {
          "base_uri": "https://localhost:8080/"
        },
        "id": "NlTPeUYMt9Ri",
        "outputId": "b5ac6ba5-db88-435f-bc20-495a65fe0f2b"
      },
      "outputs": [
        {
          "name": "stdout",
          "output_type": "stream",
          "text": [
            "         Linha de produto  Média de vendas\n",
            "0  Electronic accessories       319.632538\n",
            "1     Fashion accessories       305.089298\n",
            "2      Food and beverages       322.671517\n",
            "3       Health and beauty       323.643020\n",
            "4      Home and lifestyle       336.636956\n",
            "5       Sports and travel       332.065220\n"
          ]
        }
      ],
      "source": [
        "mean_sales_product_line = df.groupby('Product line')['Total'].mean()\n",
        "mean_sales_product_line = mean_sales_product_line.reset_index()\n",
        "mean_sales_product_line.columns = ['Linha de produto', 'Média de vendas']\n",
        "\n",
        "print(mean_sales_product_line)"
      ]
    },
    {
      "cell_type": "markdown",
      "metadata": {
        "id": "HoHe9sUck1MP"
      },
      "source": [
        "---\n",
        "# Análise de Vendas por Filial"
      ]
    },
    {
      "cell_type": "markdown",
      "metadata": {
        "id": "_zHLvoXSkK2J"
      },
      "source": [
        "**Total vendido por Filial:**"
      ]
    },
    {
      "cell_type": "code",
      "execution_count": 15,
      "metadata": {
        "colab": {
          "base_uri": "https://localhost:8080/"
        },
        "id": "SjnC_PZmjkXv",
        "outputId": "8d2e839d-0c12-4e76-ddb2-51b26b585e93"
      },
      "outputs": [
        {
          "name": "stdout",
          "output_type": "stream",
          "text": [
            "  Filial  Total de Vendas\n",
            "0      A      106200.3705\n",
            "1      B      106197.6720\n",
            "2      C      110568.7065\n"
          ]
        }
      ],
      "source": [
        "sales_branch = df.groupby('Branch')['Total'].sum()\n",
        "sales_branch = sales_branch.reset_index()\n",
        "sales_branch.columns = ['Filial', 'Total de Vendas']\n",
        "\n",
        "print(sales_branch)"
      ]
    },
    {
      "cell_type": "markdown",
      "metadata": {
        "id": "D-Ry-42nE7G5"
      },
      "source": [
        "**Média de vendas por Filial:**"
      ]
    },
    {
      "cell_type": "code",
      "execution_count": 16,
      "metadata": {
        "colab": {
          "base_uri": "https://localhost:8080/"
        },
        "id": "DLbCYmxBE15k",
        "outputId": "e243662a-c017-4058-f1ec-b61799c75d99"
      },
      "outputs": [
        {
          "name": "stdout",
          "output_type": "stream",
          "text": [
            "  Filial  Média de vendas\n",
            "0      A       312.354031\n",
            "1      B       319.872506\n",
            "2      C       337.099715\n"
          ]
        }
      ],
      "source": [
        "mean_sales_branch = df.groupby('Branch')['Total'].mean()\n",
        "mean_sales_branch = mean_sales_branch.reset_index()\n",
        "mean_sales_branch.columns = ['Filial', 'Média de vendas']\n",
        "\n",
        "print(mean_sales_branch)"
      ]
    },
    {
      "cell_type": "markdown",
      "metadata": {
        "id": "nFzlr7zvsnX7"
      },
      "source": [
        "**Quantidade de vendas por Filial:**"
      ]
    },
    {
      "cell_type": "code",
      "execution_count": 17,
      "metadata": {
        "colab": {
          "base_uri": "https://localhost:8080/"
        },
        "id": "9Byg_iJtsbCC",
        "outputId": "7e508fd3-fe3f-40ec-89d7-d00ed9e6f61a"
      },
      "outputs": [
        {
          "name": "stdout",
          "output_type": "stream",
          "text": [
            "  Filial  Total de Vendas\n",
            "0      A             1859\n",
            "1      C             1831\n",
            "2      B             1820\n"
          ]
        }
      ],
      "source": [
        "results = []\n",
        "\n",
        "unique_product_branch = df['Branch'].unique()\n",
        "\n",
        "for quantity_branch_sales in unique_product_branch:\n",
        "    filtered_df = df[df['Branch'] == quantity_branch_sales]\n",
        "    total_quantity = filtered_df['Quantity'].sum()\n",
        "    \n",
        "    results.append({'Filial': quantity_branch_sales, 'Total de Vendas': total_quantity})\n",
        "\n",
        "quantity_branch_sales = pd.DataFrame(results)\n",
        "\n",
        "print(quantity_branch_sales)"
      ]
    },
    {
      "cell_type": "markdown",
      "metadata": {
        "id": "bNj_HiKHlC0H"
      },
      "source": [
        "---\n",
        "# Análise de vendas por Cliente"
      ]
    },
    {
      "cell_type": "markdown",
      "metadata": {
        "id": "CpfjeY01ZsNP"
      },
      "source": [
        "**Total vendido por Tipo de Cliente:**"
      ]
    },
    {
      "cell_type": "code",
      "execution_count": 18,
      "metadata": {
        "colab": {
          "base_uri": "https://localhost:8080/"
        },
        "id": "DW7jwhv_YXFW",
        "outputId": "778c46c5-18ea-4ef5-d8d0-698645717fd8"
      },
      "outputs": [
        {
          "name": "stdout",
          "output_type": "stream",
          "text": [
            "  Tipo de Cliente  Total de Vendas\n",
            "0          Member       164223.444\n",
            "1          Normal       158743.305\n"
          ]
        }
      ],
      "source": [
        "sales_customer_type = df.groupby('Customer type')['Total'].sum()\n",
        "sales_customer_type = sales_customer_type.reset_index()\n",
        "sales_customer_type.columns = ['Tipo de Cliente', 'Total de Vendas']\n",
        "\n",
        "print(sales_customer_type)"
      ]
    },
    {
      "cell_type": "markdown",
      "metadata": {},
      "source": [
        "**Quantidade vendido por Tipo de Cliente:**"
      ]
    },
    {
      "cell_type": "code",
      "execution_count": 19,
      "metadata": {},
      "outputs": [
        {
          "name": "stdout",
          "output_type": "stream",
          "text": [
            "  Tipo de Cliente  Total de Vendas\n",
            "0          Member             2785\n",
            "1          Normal             2725\n"
          ]
        }
      ],
      "source": [
        "results = []\n",
        "\n",
        "unique_customer_type = df['Customer type'].unique()\n",
        "\n",
        "for quantity_client_sales in unique_customer_type:\n",
        "    filtered_df = df[df['Customer type'] == quantity_client_sales]\n",
        "    total_quantity = filtered_df['Quantity'].sum()\n",
        "    \n",
        "    results.append({'Tipo de Cliente': quantity_client_sales, 'Total de Vendas': total_quantity})\n",
        "\n",
        "quantity_client_sales = pd.DataFrame(results)\n",
        "\n",
        "print(quantity_client_sales)"
      ]
    },
    {
      "cell_type": "markdown",
      "metadata": {},
      "source": [
        "---\n",
        "# Análise Temporal"
      ]
    },
    {
      "cell_type": "markdown",
      "metadata": {},
      "source": [
        "**Total vendido Diariamente:**"
      ]
    },
    {
      "cell_type": "code",
      "execution_count": 20,
      "metadata": {},
      "outputs": [
        {
          "name": "stdout",
          "output_type": "stream",
          "text": [
            "         Data  Total de Vendas\n",
            "0  2019-01-01        4745.1810\n",
            "1  2019-01-02        1945.5030\n",
            "2  2019-01-03        2078.1285\n",
            "3  2019-01-04        1623.6885\n",
            "4  2019-01-05        3536.6835\n",
            "..        ...              ...\n",
            "84 2019-03-26        1962.5130\n",
            "85 2019-03-27        2902.8195\n",
            "86 2019-03-28        2229.4020\n",
            "87 2019-03-29        4023.2430\n",
            "88 2019-03-30        4487.0595\n",
            "\n",
            "[89 rows x 2 columns]\n"
          ]
        }
      ],
      "source": [
        "daily_sales = df.groupby('Date')['Total'].sum().reset_index()\n",
        "daily_sales.columns = ['Data', 'Total de Vendas']\n",
        "\n",
        "print(daily_sales)"
      ]
    },
    {
      "cell_type": "markdown",
      "metadata": {},
      "source": [
        "**Total vendido Mensalmente:**"
      ]
    },
    {
      "cell_type": "code",
      "execution_count": 21,
      "metadata": {},
      "outputs": [
        {
          "name": "stdout",
          "output_type": "stream",
          "text": [
            "       Mês  Total de Vendas\n",
            "0  2019-01       116291.868\n",
            "1  2019-02        97219.374\n",
            "2  2019-03       109455.507\n"
          ]
        }
      ],
      "source": [
        "df['Month'] = df['Date'].dt.to_period('M')\n",
        "monthly_sales = df.groupby('Month')['Total'].sum().reset_index()\n",
        "monthly_sales.columns = ['Mês', 'Total de Vendas']\n",
        "monthly_sales['Mês'] = monthly_sales['Mês'].astype(str)\n",
        "\n",
        "print(monthly_sales)"
      ]
    },
    {
      "cell_type": "markdown",
      "metadata": {},
      "source": [
        "**Total vendido por Hora:**"
      ]
    },
    {
      "cell_type": "code",
      "execution_count": 22,
      "metadata": {},
      "outputs": [
        {
          "name": "stdout",
          "output_type": "stream",
          "text": [
            "     Hora  Total de Vendas\n",
            "0   10:00       31421.4810\n",
            "1   11:00       30377.3295\n",
            "2   12:00       26065.8825\n",
            "3   13:00       34723.2270\n",
            "4   14:00       30828.3990\n",
            "5   15:00       31179.5085\n",
            "6   16:00       25226.3235\n",
            "7   17:00       24445.2180\n",
            "8   18:00       26030.3400\n",
            "9   19:00       39699.5130\n",
            "10  20:00       22969.5270\n"
          ]
        }
      ],
      "source": [
        "df['Hour'] = df['Time'].apply(lambda x: x.hour)\n",
        "\n",
        "df['Hour_Formatted'] = df['Hour'].apply(lambda x: f\"{x:02d}:00\")\n",
        "\n",
        "sales_by_hour = df.groupby('Hour_Formatted')['Total'].sum().reset_index()\n",
        "sales_by_hour.columns = ['Hora', 'Total de Vendas']\n",
        "\n",
        "print(sales_by_hour)"
      ]
    },
    {
      "cell_type": "markdown",
      "metadata": {},
      "source": [
        "---\n",
        "# Análise de Produtos"
      ]
    },
    {
      "cell_type": "markdown",
      "metadata": {},
      "source": [
        "**Média de preço dos Produtos:**"
      ]
    },
    {
      "cell_type": "code",
      "execution_count": 23,
      "metadata": {},
      "outputs": [
        {
          "name": "stdout",
          "output_type": "stream",
          "text": [
            "         Linha de Produto  Preço médio unitário\n",
            "0  Electronic accessories             53.551588\n",
            "1     Fashion accessories             57.153652\n",
            "2      Food and beverages             56.008851\n",
            "3       Health and beauty             54.854474\n",
            "4      Home and lifestyle             55.316937\n",
            "5       Sports and travel             56.993253\n"
          ]
        }
      ],
      "source": [
        "mean_price_product = df.groupby('Product line')['Unit price'].mean().reset_index()\n",
        "mean_price_product.columns = ['Linha de Produto', 'Preço médio unitário']\n",
        "\n",
        "print(mean_price_product)"
      ]
    },
    {
      "cell_type": "markdown",
      "metadata": {},
      "source": [
        "---\n",
        "# Análise de Pagamento"
      ]
    },
    {
      "cell_type": "markdown",
      "metadata": {},
      "source": [
        "**Métodos de Pagamento Mais Utilizados:**"
      ]
    },
    {
      "cell_type": "code",
      "execution_count": 24,
      "metadata": {},
      "outputs": [
        {
          "name": "stdout",
          "output_type": "stream",
          "text": [
            "  Método de Pagamento  Número de Transações\n",
            "0             Ewallet                   345\n",
            "1                Cash                   344\n",
            "2         Credit card                   311\n"
          ]
        }
      ],
      "source": [
        "payment_methods = df['Payment'].value_counts().reset_index()\n",
        "payment_methods.columns = ['Método de Pagamento', 'Número de Transações']\n",
        "\n",
        "print(payment_methods)"
      ]
    },
    {
      "cell_type": "markdown",
      "metadata": {},
      "source": [
        "**Total de Vendas por Método de Pagamento:**"
      ]
    },
    {
      "cell_type": "code",
      "execution_count": 25,
      "metadata": {},
      "outputs": [
        {
          "name": "stdout",
          "output_type": "stream",
          "text": [
            "  Método de Pagamento  Total de Vendas\n",
            "0                Cash       112206.570\n",
            "1         Credit card       100767.072\n",
            "2             Ewallet       109993.107\n"
          ]
        }
      ],
      "source": [
        "sales_payment = df.groupby('Payment')['Total'].sum().reset_index()\n",
        "sales_payment.columns = ['Método de Pagamento', 'Total de Vendas']\n",
        "\n",
        "print(sales_payment)"
      ]
    },
    {
      "cell_type": "markdown",
      "metadata": {},
      "source": [
        "---\n",
        "# Análise de Clientes"
      ]
    },
    {
      "cell_type": "markdown",
      "metadata": {},
      "source": [
        "**Distribuição de Clientes por Gênero:**"
      ]
    },
    {
      "cell_type": "code",
      "execution_count": 26,
      "metadata": {},
      "outputs": [
        {
          "name": "stdout",
          "output_type": "stream",
          "text": [
            "   Gênero  Número de Clientes\n",
            "0  Female                 501\n",
            "1    Male                 499\n"
          ]
        }
      ],
      "source": [
        "gender_distribution = df['Gender'].value_counts().reset_index()\n",
        "gender_distribution.columns = ['Gênero', 'Número de Clientes']\n",
        "\n",
        "print(gender_distribution)"
      ]
    },
    {
      "cell_type": "markdown",
      "metadata": {},
      "source": [
        "---\n",
        "# Análise de Avaliações"
      ]
    },
    {
      "cell_type": "markdown",
      "metadata": {},
      "source": [
        "**Avaliação Média Geral:**"
      ]
    },
    {
      "cell_type": "code",
      "execution_count": 27,
      "metadata": {},
      "outputs": [
        {
          "name": "stdout",
          "output_type": "stream",
          "text": [
            "A média de avaliação é de 6.97\n"
          ]
        }
      ],
      "source": [
        "mean_rating = df['Rating'].mean()\n",
        "\n",
        "print(f\"A média de avaliação é de {mean_rating:.2f}\")"
      ]
    },
    {
      "cell_type": "markdown",
      "metadata": {},
      "source": [
        "**Avaliação média por Linha de Produto:**"
      ]
    },
    {
      "cell_type": "code",
      "execution_count": 28,
      "metadata": {},
      "outputs": [
        {
          "name": "stdout",
          "output_type": "stream",
          "text": [
            "         Linha de Produto  Média de Avaliação\n",
            "0  Electronic accessories            6.924706\n",
            "1     Fashion accessories            7.029213\n",
            "2      Food and beverages            7.113218\n",
            "3       Health and beauty            7.003289\n",
            "4      Home and lifestyle            6.837500\n",
            "5       Sports and travel            6.916265\n"
          ]
        }
      ],
      "source": [
        "mean_rating_product_line = df.groupby('Product line')['Rating'].mean().reset_index()\n",
        "mean_rating_product_line.columns = ['Linha de Produto', 'Média de Avaliação']\n",
        "\n",
        "print(mean_rating_product_line)"
      ]
    },
    {
      "cell_type": "markdown",
      "metadata": {},
      "source": [
        "**Avaliação média por Filial:**"
      ]
    },
    {
      "cell_type": "code",
      "execution_count": 29,
      "metadata": {},
      "outputs": [
        {
          "name": "stdout",
          "output_type": "stream",
          "text": [
            "  Filial  Avaliação Média\n",
            "0      A         7.027059\n",
            "1      B         6.818072\n",
            "2      C         7.072866\n"
          ]
        }
      ],
      "source": [
        "mean_rating_branch = df.groupby('Branch')['Rating'].mean().reset_index()\n",
        "mean_rating_branch.columns = ['Filial','Avaliação Média']\n",
        "\n",
        "print(mean_rating_branch)"
      ]
    },
    {
      "cell_type": "markdown",
      "metadata": {},
      "source": [
        "**Quantidade de Clientes Satisfeitos e Insatisfeitos:**"
      ]
    },
    {
      "cell_type": "code",
      "execution_count": 30,
      "metadata": {},
      "outputs": [
        {
          "name": "stdout",
          "output_type": "stream",
          "text": [
            "Client Satisfaction\n",
            "Satisfeitos      685\n",
            "Insatisfeitos    315\n",
            "Name: count, dtype: int64\n"
          ]
        }
      ],
      "source": [
        "limit_rating = 6.0\n",
        "df['Client Satisfaction'] = df['Rating'].apply(lambda x: 'Insatisfeitos' \n",
        "                                               if x < limit_rating\n",
        "                                               else 'Satisfeitos')\n",
        "\n",
        "# Contar a distribuição de satisfação\n",
        "print(df['Client Satisfaction'].value_counts())"
      ]
    },
    {
      "cell_type": "markdown",
      "metadata": {},
      "source": [
        "---\n",
        "# Salvando as Análises em um arquivo CSV:"
      ]
    },
    {
      "cell_type": "code",
      "execution_count": 32,
      "metadata": {},
      "outputs": [],
      "source": [
        "analises = {\n",
        "    'Vendas por Linha de Produto (Unidades)': quantity_line_sales,\n",
        "    'Vendas por Linha de Produto (Valor)': sales_product_line,\n",
        "    'Média de Vendas por Linha de Produto': mean_sales_product_line,\n",
        "    'Vendas por Filial (Unidades)': quantity_branch_sales,\n",
        "    'Vendas por Filial (Valor)': sales_branch,\n",
        "    'Média de Vendas por Filial': mean_sales_branch,\n",
        "    'Vendas por Tipo de Cliente (Unidades)': quantity_client_sales,\n",
        "    'Vendas por Tipo de Cliente (Valor)': sales_customer_type,\n",
        "    'Vendas Diárias': daily_sales,\n",
        "    'Vendas Mensais': monthly_sales,\n",
        "    'Vendas por Hora': sales_by_hour,\n",
        "    'Métodos de Pagamento': payment_methods,\n",
        "    'Vendas por Método de Pagamento': sales_payment,\n",
        "    'Distribuição de Gênero': gender_distribution,\n",
        "    'Avaliação Média por Linha de Produto': mean_rating_product_line,\n",
        "    'Avaliação Média por Filial': mean_rating_branch,\n",
        "    'Satisfação do Cliente': df['Client Satisfaction'].value_counts().reset_index()\n",
        "}\n",
        "\n",
        "analises_df = pd.concat(analises.values(), keys=analises.keys(), axis=1)\n",
        "\n",
        "analises_df.to_csv('analises_vendas.csv', index=False)"
      ]
    }
  ],
  "metadata": {
    "colab": {
      "provenance": []
    },
    "kernelspec": {
      "display_name": "Python 3",
      "name": "python3"
    },
    "language_info": {
      "codemirror_mode": {
        "name": "ipython",
        "version": 3
      },
      "file_extension": ".py",
      "mimetype": "text/x-python",
      "name": "python",
      "nbconvert_exporter": "python",
      "pygments_lexer": "ipython3",
      "version": "3.13.2"
    }
  },
  "nbformat": 4,
  "nbformat_minor": 0
}
