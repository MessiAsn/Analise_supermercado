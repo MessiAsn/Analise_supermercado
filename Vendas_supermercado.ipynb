{
  "cells": [
    {
      "cell_type": "markdown",
      "metadata": {
        "id": "CBPvPDx3zr5F"
      },
      "source": [
        "**Importando bibliotecas:**"
      ]
    },
    {
      "cell_type": "code",
      "execution_count": 1,
      "metadata": {
        "id": "5b7X1fqa43lc"
      },
      "outputs": [],
      "source": [
        "import pandas as pd\n",
        "\n",
        "df = pd.read_csv(\"supermarket_sales.csv\", sep=';')"
      ]
    },
    {
      "cell_type": "markdown",
      "metadata": {
        "id": "R0q7joUAzxcH"
      },
      "source": [
        "**Convertendo valores para o tipo float:**"
      ]
    },
    {
      "cell_type": "code",
      "execution_count": null,
      "metadata": {
        "colab": {
          "base_uri": "https://localhost:8080/"
        },
        "id": "PY4pK2W8z28R",
        "outputId": "9edad6d4-389a-4f0c-e6e9-7c8bc528ec72"
      },
      "outputs": [
        {
          "name": "stdout",
          "output_type": "stream",
          "text": [
            "Coluna 'Invoice ID' não foi convertida (não é decimal).\n",
            "Coluna 'Branch' não foi convertida (não é decimal).\n",
            "Coluna 'City' não foi convertida (não é decimal).\n",
            "Coluna 'Customer type' não foi convertida (não é decimal).\n",
            "Coluna 'Gender' não foi convertida (não é decimal).\n",
            "Coluna 'Product line' não foi convertida (não é decimal).\n",
            "Coluna 'Unit price' convertida para float.\n",
            "Coluna 'Tax 5%' convertida para float.\n",
            "Coluna 'Total' convertida para float.\n",
            "Coluna 'Date' não foi convertida (não é decimal).\n",
            "Coluna 'Time' não foi convertida (não é decimal).\n",
            "Coluna 'Payment' não foi convertida (não é decimal).\n",
            "Coluna 'cogs' convertida para float.\n",
            "Coluna 'gross margin percentage' convertida para float.\n",
            "Coluna 'gross income' convertida para float.\n",
            "Coluna 'Rating' convertida para float.\n",
            "\n",
            "Tipos de dados das colunas após a conversão:\n",
            "Unnamed: 0                   int64\n",
            "Invoice ID                  object\n",
            "Branch                      object\n",
            "City                        object\n",
            "Customer type               object\n",
            "Gender                      object\n",
            "Product line                object\n",
            "Unit price                 float64\n",
            "Quantity                     int64\n",
            "Tax 5%                     float64\n",
            "Total                      float64\n",
            "Date                        object\n",
            "Time                        object\n",
            "Payment                     object\n",
            "cogs                       float64\n",
            "gross margin percentage    float64\n",
            "gross income               float64\n",
            "Rating                     float64\n",
            "dtype: object\n"
          ]
        }
      ],
      "source": [
        "def convert_decimal_columns_to_float(df):\n",
        "    for col in df.columns:\n",
        "        if df[col].dtype == 'object':\n",
        "            try:\n",
        "                df[col] = df[col].str.replace(',', '.').astype(float)\n",
        "                print(f\"Coluna '{col}' convertida para float.\")\n",
        "            except (ValueError, AttributeError):\n",
        "                print(f\"Coluna '{col}' não foi convertida (não é decimal).\")\n",
        "    return df\n",
        "\n",
        "df = convert_decimal_columns_to_float(df)\n",
        "\n",
        "print(\"\\nTipos de dados das colunas após a conversão:\")\n",
        "print(df.dtypes)"
      ]
    },
    {
      "cell_type": "markdown",
      "metadata": {},
      "source": [
        "**Convertendo valores para o tipo datetime**"
      ]
    },
    {
      "cell_type": "code",
      "execution_count": 3,
      "metadata": {},
      "outputs": [],
      "source": [
        "df['Date'] = pd.to_datetime(df['Date'], format='mixed')\n",
        "df['Time'] = pd.to_datetime(df['Time'], format='mixed').dt.time"
      ]
    },
    {
      "cell_type": "markdown",
      "metadata": {
        "id": "CYpg1D77H836"
      },
      "source": [
        "# Análise Descritiva por Categoria\n"
      ]
    },
    {
      "cell_type": "markdown",
      "metadata": {
        "id": "0Zcb3PZMB7Up"
      },
      "source": [
        "**Quantidade vendida por Linha de Produto:**"
      ]
    },
    {
      "cell_type": "code",
      "execution_count": 4,
      "metadata": {
        "colab": {
          "base_uri": "https://localhost:8080/"
        },
        "id": "B0iCRPmdu6wk",
        "outputId": "71a12ccc-2442-4bd3-a310-61b7101c1522"
      },
      "outputs": [
        {
          "name": "stdout",
          "output_type": "stream",
          "text": [
            "Total de vendas de 'Health and beauty': 854 unidades\n",
            "Total de vendas de 'Electronic accessories': 971 unidades\n",
            "Total de vendas de 'Home and lifestyle': 911 unidades\n",
            "Total de vendas de 'Sports and travel': 920 unidades\n",
            "Total de vendas de 'Food and beverages': 952 unidades\n",
            "Total de vendas de 'Fashion accessories': 902 unidades\n"
          ]
        }
      ],
      "source": [
        "unique_product_line = df['Product line'].unique()\n",
        "\n",
        "for product_line in unique_product_line:\n",
        "\n",
        "  filtered_df = df[df['Product line'] == product_line]\n",
        "\n",
        "  total_quantity = filtered_df['Quantity'].sum()\n",
        "\n",
        "  print(f\"Total de vendas de '{product_line}': {total_quantity} unidades\")"
      ]
    },
    {
      "cell_type": "markdown",
      "metadata": {
        "id": "ZQ3T2_XeBM-M"
      },
      "source": [
        "**Total vendido por Linha de Produto:**"
      ]
    },
    {
      "cell_type": "code",
      "execution_count": 5,
      "metadata": {
        "colab": {
          "base_uri": "https://localhost:8080/"
        },
        "id": "Tb_-HrfoBMhn",
        "outputId": "892d83f5-1050-4787-d1d4-82bdf7044e74"
      },
      "outputs": [
        {
          "name": "stdout",
          "output_type": "stream",
          "text": [
            "Product line\n",
            "Food and beverages        56144.8440\n",
            "Sports and travel         55122.8265\n",
            "Electronic accessories    54337.5315\n",
            "Fashion accessories       54305.8950\n",
            "Home and lifestyle        53861.9130\n",
            "Health and beauty         49193.7390\n",
            "Name: Total, dtype: float64\n"
          ]
        }
      ],
      "source": [
        "sales_product_line = df.groupby('Product line')['Total'].sum()\n",
        "\n",
        "sales_product_line = sales_product_line.sort_values(ascending=False)\n",
        "\n",
        "print(sales_product_line)"
      ]
    },
    {
      "cell_type": "markdown",
      "metadata": {
        "id": "w1nPAo8YuEMp"
      },
      "source": [
        "**Média de vendas por Linha de Produto:**"
      ]
    },
    {
      "cell_type": "code",
      "execution_count": 6,
      "metadata": {
        "colab": {
          "base_uri": "https://localhost:8080/"
        },
        "id": "NlTPeUYMt9Ri",
        "outputId": "b5ac6ba5-db88-435f-bc20-495a65fe0f2b"
      },
      "outputs": [
        {
          "name": "stdout",
          "output_type": "stream",
          "text": [
            "Média de vendas por filial:\n",
            "Product line\n",
            "Home and lifestyle        336.636956\n",
            "Sports and travel         332.065220\n",
            "Health and beauty         323.643020\n",
            "Food and beverages        322.671517\n",
            "Electronic accessories    319.632538\n",
            "Fashion accessories       305.089298\n",
            "Name: Total, dtype: float64\n"
          ]
        }
      ],
      "source": [
        "mean_sales_product_line = df.groupby('Product line')['Total'].mean()\n",
        "\n",
        "mean_sales_by_branch = mean_sales_product_line.sort_values(ascending=False)\n",
        "print(\"Média de vendas por filial:\")\n",
        "print(mean_sales_by_branch)"
      ]
    },
    {
      "cell_type": "markdown",
      "metadata": {
        "id": "HoHe9sUck1MP"
      },
      "source": [
        "# Análise Descritiva por Filial"
      ]
    },
    {
      "cell_type": "markdown",
      "metadata": {
        "id": "_zHLvoXSkK2J"
      },
      "source": [
        "**Total vendido por Filial:**"
      ]
    },
    {
      "cell_type": "code",
      "execution_count": 7,
      "metadata": {
        "colab": {
          "base_uri": "https://localhost:8080/"
        },
        "id": "SjnC_PZmjkXv",
        "outputId": "8d2e839d-0c12-4e76-ddb2-51b26b585e93"
      },
      "outputs": [
        {
          "name": "stdout",
          "output_type": "stream",
          "text": [
            "Branch\n",
            "C    110568.7065\n",
            "A    106200.3705\n",
            "B    106197.6720\n",
            "Name: Total, dtype: float64\n"
          ]
        }
      ],
      "source": [
        "sales_branch = df.groupby('Branch')['Total'].sum()\n",
        "\n",
        "sales_branch = sales_branch.sort_values(ascending=False)\n",
        "\n",
        "print(sales_branch)"
      ]
    },
    {
      "cell_type": "markdown",
      "metadata": {
        "id": "D-Ry-42nE7G5"
      },
      "source": [
        "**Média de vendas por Filial:**"
      ]
    },
    {
      "cell_type": "code",
      "execution_count": 8,
      "metadata": {
        "colab": {
          "base_uri": "https://localhost:8080/"
        },
        "id": "DLbCYmxBE15k",
        "outputId": "e243662a-c017-4058-f1ec-b61799c75d99"
      },
      "outputs": [
        {
          "name": "stdout",
          "output_type": "stream",
          "text": [
            "Média de vendas por filial:\n",
            "Branch\n",
            "C    337.099715\n",
            "B    319.872506\n",
            "A    312.354031\n",
            "Name: Total, dtype: float64\n"
          ]
        }
      ],
      "source": [
        "mean_sales_branch = df.groupby('Branch')['Total'].mean()\n",
        "\n",
        "mean_sales_branch = mean_sales_branch.sort_values(ascending=False)\n",
        "print(\"Média de vendas por filial:\")\n",
        "print(mean_sales_branch)"
      ]
    },
    {
      "cell_type": "markdown",
      "metadata": {
        "id": "nFzlr7zvsnX7"
      },
      "source": [
        "**Quantidade de vendas por Filial:**"
      ]
    },
    {
      "cell_type": "code",
      "execution_count": 9,
      "metadata": {
        "colab": {
          "base_uri": "https://localhost:8080/"
        },
        "id": "9Byg_iJtsbCC",
        "outputId": "7e508fd3-fe3f-40ec-89d7-d00ed9e6f61a"
      },
      "outputs": [
        {
          "name": "stdout",
          "output_type": "stream",
          "text": [
            "Total de vendas de 'A': 1859 unidades\n",
            "Total de vendas de 'C': 1831 unidades\n",
            "Total de vendas de 'B': 1820 unidades\n"
          ]
        }
      ],
      "source": [
        "unique_product_branch = df['Branch'].unique()\n",
        "\n",
        "for product_line in unique_product_branch:\n",
        "\n",
        "  filtered_df = df[df['Branch'] == product_line]\n",
        "\n",
        "  total_quantity = filtered_df['Quantity'].sum()\n",
        "\n",
        "  print(f\"Total de vendas de '{product_line}': {total_quantity} unidades\")"
      ]
    },
    {
      "cell_type": "markdown",
      "metadata": {
        "id": "Vowg-6TjyhMs"
      },
      "source": [
        "# Análise Descritiva por Produto"
      ]
    },
    {
      "cell_type": "markdown",
      "metadata": {
        "id": "1A3Z_XqK0Ozf"
      },
      "source": [
        "**Média de preço dos Produtos:**"
      ]
    },
    {
      "cell_type": "code",
      "execution_count": 10,
      "metadata": {
        "colab": {
          "base_uri": "https://localhost:8080/"
        },
        "id": "DUhme9gBylmH",
        "outputId": "06d84197-afa8-4967-954c-6fc415d85ebf"
      },
      "outputs": [
        {
          "name": "stdout",
          "output_type": "stream",
          "text": [
            "             Product Line  Average Unit Price\n",
            "0  Electronic accessories           53.551588\n",
            "1     Fashion accessories           57.153652\n",
            "2      Food and beverages           56.008851\n",
            "3       Health and beauty           54.854474\n",
            "4      Home and lifestyle           55.316937\n",
            "5       Sports and travel           56.993253\n"
          ]
        }
      ],
      "source": [
        "mean_price_product = df.groupby('Product line')['Unit price'].mean().reset_index()\n",
        "\n",
        "mean_price_product.columns = ['Product Line', 'Average Unit Price']\n",
        "\n",
        "print(mean_price_product)"
      ]
    },
    {
      "cell_type": "markdown",
      "metadata": {
        "id": "bNj_HiKHlC0H"
      },
      "source": [
        "# Análise Descritiva por Cliente"
      ]
    },
    {
      "cell_type": "markdown",
      "metadata": {
        "id": "CpfjeY01ZsNP"
      },
      "source": [
        "**Total vendido por Tipo de Cliente:**"
      ]
    },
    {
      "cell_type": "code",
      "execution_count": 11,
      "metadata": {
        "colab": {
          "base_uri": "https://localhost:8080/"
        },
        "id": "DW7jwhv_YXFW",
        "outputId": "778c46c5-18ea-4ef5-d8d0-698645717fd8"
      },
      "outputs": [
        {
          "name": "stdout",
          "output_type": "stream",
          "text": [
            "Customer type\n",
            "Member    164223.444\n",
            "Normal    158743.305\n",
            "Name: Total, dtype: float64\n"
          ]
        }
      ],
      "source": [
        "sales_customer_type = df.groupby('Customer type')['Total'].sum()\n",
        "\n",
        "sales_customer_type = sales_customer_type.sort_values(ascending=False)\n",
        "print(sales_customer_type)"
      ]
    },
    {
      "cell_type": "markdown",
      "metadata": {},
      "source": [
        "**Quantidade vendido por Tipo de Cliente:**"
      ]
    },
    {
      "cell_type": "code",
      "execution_count": 12,
      "metadata": {},
      "outputs": [
        {
          "name": "stdout",
          "output_type": "stream",
          "text": [
            "Total de vendas de 'Member': 2785 unidades\n",
            "Total de vendas de 'Normal': 2725 unidades\n"
          ]
        }
      ],
      "source": [
        "unique_customer_type = df['Customer type'].unique()\n",
        "\n",
        "for customer_type in unique_customer_type:\n",
        "\n",
        "  filtered_df = df[df['Customer type'] == customer_type]\n",
        "\n",
        "  total_quantity = filtered_df['Quantity'].sum()\n",
        "\n",
        "  print(f\"Total de vendas de '{customer_type}': {total_quantity} unidades\")"
      ]
    },
    {
      "cell_type": "markdown",
      "metadata": {},
      "source": [
        "# Análises Temporais"
      ]
    },
    {
      "cell_type": "markdown",
      "metadata": {},
      "source": [
        "**Total vendido Diariamente:**"
      ]
    },
    {
      "cell_type": "code",
      "execution_count": 13,
      "metadata": {},
      "outputs": [
        {
          "name": "stdout",
          "output_type": "stream",
          "text": [
            "          Date  Total Sales\n",
            "0   2019-01-01    4745.1810\n",
            "1   2019-01-02    1945.5030\n",
            "2   2019-01-03    2078.1285\n",
            "3   2019-01-04    1623.6885\n",
            "4   2019-01-05    3536.6835\n",
            "..         ...          ...\n",
            "84  2019-03-26    1962.5130\n",
            "85  2019-03-27    2902.8195\n",
            "86  2019-03-28    2229.4020\n",
            "87  2019-03-29    4023.2430\n",
            "88  2019-03-30    4487.0595\n",
            "\n",
            "[89 rows x 2 columns]\n"
          ]
        }
      ],
      "source": [
        "daily_sales = df.groupby(df['Date'].dt.date)['Total'].sum().reset_index()\n",
        "daily_sales.columns = ['Date', 'Total Sales']\n",
        "\n",
        "print(daily_sales)"
      ]
    },
    {
      "cell_type": "markdown",
      "metadata": {},
      "source": [
        "**Total vendido Mensalmente:**"
      ]
    },
    {
      "cell_type": "code",
      "execution_count": null,
      "metadata": {},
      "outputs": [
        {
          "name": "stdout",
          "output_type": "stream",
          "text": [
            "     Month  Total Sales\n",
            "0  2019-01   116291.868\n",
            "1  2019-02    97219.374\n",
            "2  2019-03   109455.507\n"
          ]
        }
      ],
      "source": [
        "df['Month'] = df['Date'].dt.to_period('M')\n",
        "monthly_sales = df.groupby('Month')['Total'].sum().reset_index()\n",
        "monthly_sales.columns = ['Month', 'Total Sales']\n",
        "monthly_sales['Month'] = monthly_sales['Month'].astype(str)\n",
        "\n",
        "print(monthly_sales)"
      ]
    },
    {
      "cell_type": "markdown",
      "metadata": {},
      "source": [
        "**Total vendido por Hora:**"
      ]
    },
    {
      "cell_type": "code",
      "execution_count": 17,
      "metadata": {},
      "outputs": [
        {
          "name": "stdout",
          "output_type": "stream",
          "text": [
            "    Hour  Total Sales\n",
            "0     10   31421.4810\n",
            "1     11   30377.3295\n",
            "2     12   26065.8825\n",
            "3     13   34723.2270\n",
            "4     14   30828.3990\n",
            "5     15   31179.5085\n",
            "6     16   25226.3235\n",
            "7     17   24445.2180\n",
            "8     18   26030.3400\n",
            "9     19   39699.5130\n",
            "10    20   22969.5270\n"
          ]
        }
      ],
      "source": [
        "df['Hour'] = pd.to_datetime(df['Time'], format='%H:%M:%S').dt.hour\n",
        "sales_by_hour = df.groupby('Hour')['Total'].sum().reset_index()\n",
        "sales_by_hour.columns = ['Hour', 'Total Sales']\n",
        "\n",
        "print(sales_by_hour)"
      ]
    }
  ],
  "metadata": {
    "colab": {
      "provenance": []
    },
    "kernelspec": {
      "display_name": "Python 3",
      "name": "python3"
    },
    "language_info": {
      "codemirror_mode": {
        "name": "ipython",
        "version": 3
      },
      "file_extension": ".py",
      "mimetype": "text/x-python",
      "name": "python",
      "nbconvert_exporter": "python",
      "pygments_lexer": "ipython3",
      "version": "3.13.2"
    }
  },
  "nbformat": 4,
  "nbformat_minor": 0
}
