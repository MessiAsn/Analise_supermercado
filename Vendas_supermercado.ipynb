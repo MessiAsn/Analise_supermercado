{
  "cells": [
    {
      "cell_type": "markdown",
      "metadata": {
        "id": "CBPvPDx3zr5F"
      },
      "source": [
        "**Importando bibliotecas:**"
      ]
    },
    {
      "cell_type": "code",
      "execution_count": 1,
      "metadata": {
        "id": "5b7X1fqa43lc"
      },
      "outputs": [],
      "source": [
        "import pandas as pd\n",
        "\n",
        "df = pd.read_csv(\"supermarket_sales.csv\", sep=';')"
      ]
    },
    {
      "cell_type": "markdown",
      "metadata": {
        "id": "R0q7joUAzxcH"
      },
      "source": [
        "**Convertendo valores para o tipo Float:**"
      ]
    },
    {
      "cell_type": "code",
      "execution_count": 2,
      "metadata": {
        "colab": {
          "base_uri": "https://localhost:8080/"
        },
        "id": "PY4pK2W8z28R",
        "outputId": "9edad6d4-389a-4f0c-e6e9-7c8bc528ec72"
      },
      "outputs": [
        {
          "name": "stdout",
          "output_type": "stream",
          "text": [
            "Coluna 'Invoice ID' não foi convertida (não é decimal).\n",
            "Coluna 'Branch' não foi convertida (não é decimal).\n",
            "Coluna 'City' não foi convertida (não é decimal).\n",
            "Coluna 'Customer type' não foi convertida (não é decimal).\n",
            "Coluna 'Gender' não foi convertida (não é decimal).\n",
            "Coluna 'Product line' não foi convertida (não é decimal).\n",
            "Coluna 'Unit price' convertida para float.\n",
            "Coluna 'Tax 5%' convertida para float.\n",
            "Coluna 'Total' convertida para float.\n",
            "Coluna 'Date' não foi convertida (não é decimal).\n",
            "Coluna 'Time' não foi convertida (não é decimal).\n",
            "Coluna 'Payment' não foi convertida (não é decimal).\n",
            "Coluna 'cogs' convertida para float.\n",
            "Coluna 'gross margin percentage' convertida para float.\n",
            "Coluna 'gross income' convertida para float.\n",
            "Coluna 'Rating' convertida para float.\n",
            "\n",
            "Tipos de dados das colunas após a conversão:\n",
            "Unnamed: 0                   int64\n",
            "Invoice ID                  object\n",
            "Branch                      object\n",
            "City                        object\n",
            "Customer type               object\n",
            "Gender                      object\n",
            "Product line                object\n",
            "Unit price                 float64\n",
            "Quantity                     int64\n",
            "Tax 5%                     float64\n",
            "Total                      float64\n",
            "Date                        object\n",
            "Time                        object\n",
            "Payment                     object\n",
            "cogs                       float64\n",
            "gross margin percentage    float64\n",
            "gross income               float64\n",
            "Rating                     float64\n",
            "dtype: object\n"
          ]
        }
      ],
      "source": [
        "def convert_decimal_columns_to_float(df):\n",
        "    for col in df.columns:\n",
        "        if df[col].dtype == 'object':\n",
        "            try:\n",
        "                df[col] = df[col].str.replace(',', '.').astype(float)\n",
        "                print(f\"Coluna '{col}' convertida para float.\")\n",
        "            except (ValueError, AttributeError):\n",
        "                print(f\"Coluna '{col}' não foi convertida (não é decimal).\")\n",
        "    return df\n",
        "\n",
        "df = convert_decimal_columns_to_float(df)\n",
        "\n",
        "print(\"\\nTipos de dados das colunas após a conversão:\")\n",
        "print(df.dtypes)"
      ]
    },
    {
      "cell_type": "markdown",
      "metadata": {},
      "source": [
        "**Convertendo valores para o tipo DateTime:**"
      ]
    },
    {
      "cell_type": "code",
      "execution_count": 3,
      "metadata": {},
      "outputs": [],
      "source": [
        "df['Date'] = pd.to_datetime(df['Date'], format='mixed')\n",
        "df['Time'] = pd.to_datetime(df['Time'], format='mixed').dt.time"
      ]
    },
    {
      "cell_type": "markdown",
      "metadata": {},
      "source": [
        "**Formatando valores Nulos e Duplicados:**"
      ]
    },
    {
      "cell_type": "code",
      "execution_count": 4,
      "metadata": {},
      "outputs": [],
      "source": [
        "df = df.dropna()\n",
        "df = df.drop_duplicates()"
      ]
    },
    {
      "cell_type": "markdown",
      "metadata": {
        "id": "CYpg1D77H836"
      },
      "source": [
        "# Análise Descritiva por Categoria\n"
      ]
    },
    {
      "cell_type": "markdown",
      "metadata": {
        "id": "0Zcb3PZMB7Up"
      },
      "source": [
        "**Quantidade vendida por Linha de Produto:**"
      ]
    },
    {
      "cell_type": "code",
      "execution_count": 5,
      "metadata": {
        "colab": {
          "base_uri": "https://localhost:8080/"
        },
        "id": "B0iCRPmdu6wk",
        "outputId": "71a12ccc-2442-4bd3-a310-61b7101c1522"
      },
      "outputs": [
        {
          "name": "stdout",
          "output_type": "stream",
          "text": [
            "Total de vendas de 'Health and beauty': 854 unidades\n",
            "Total de vendas de 'Electronic accessories': 971 unidades\n",
            "Total de vendas de 'Home and lifestyle': 911 unidades\n",
            "Total de vendas de 'Sports and travel': 920 unidades\n",
            "Total de vendas de 'Food and beverages': 952 unidades\n",
            "Total de vendas de 'Fashion accessories': 902 unidades\n"
          ]
        }
      ],
      "source": [
        "unique_product_line = df['Product line'].unique()\n",
        "\n",
        "for product_line in unique_product_line:\n",
        "\n",
        "  filtered_df = df[df['Product line'] == product_line]\n",
        "\n",
        "  total_quantity = filtered_df['Quantity'].sum()\n",
        "\n",
        "  print(f\"Total de vendas de '{product_line}': {total_quantity} unidades\")"
      ]
    },
    {
      "cell_type": "markdown",
      "metadata": {
        "id": "ZQ3T2_XeBM-M"
      },
      "source": [
        "**Total vendido por Linha de Produto:**"
      ]
    },
    {
      "cell_type": "code",
      "execution_count": 6,
      "metadata": {
        "colab": {
          "base_uri": "https://localhost:8080/"
        },
        "id": "Tb_-HrfoBMhn",
        "outputId": "892d83f5-1050-4787-d1d4-82bdf7044e74"
      },
      "outputs": [
        {
          "name": "stdout",
          "output_type": "stream",
          "text": [
            "         Linha de Produto Total de Vendas\n",
            "0  Electronic accessories      $54,337.53\n",
            "1     Fashion accessories      $54,305.89\n",
            "2      Food and beverages      $56,144.84\n",
            "3       Health and beauty      $49,193.74\n",
            "4      Home and lifestyle      $53,861.91\n",
            "5       Sports and travel      $55,122.83\n"
          ]
        }
      ],
      "source": [
        "sales_product_line = df.groupby('Product line')['Total'].sum()\n",
        "sales_product_line = sales_product_line.reset_index()\n",
        "sales_product_line.columns = ['Linha de Produto', 'Total de Vendas']\n",
        "sales_product_line['Total de Vendas'] = sales_product_line['Total de Vendas'].apply(lambda x: f\"${x:,.2f}\")\n",
        "\n",
        "print(sales_product_line)"
      ]
    },
    {
      "cell_type": "markdown",
      "metadata": {
        "id": "w1nPAo8YuEMp"
      },
      "source": [
        "**Média de vendas por Linha de Produto:**"
      ]
    },
    {
      "cell_type": "code",
      "execution_count": 7,
      "metadata": {
        "colab": {
          "base_uri": "https://localhost:8080/"
        },
        "id": "NlTPeUYMt9Ri",
        "outputId": "b5ac6ba5-db88-435f-bc20-495a65fe0f2b"
      },
      "outputs": [
        {
          "name": "stdout",
          "output_type": "stream",
          "text": [
            "Média de vendas por filial:\n",
            "         Linha de produto Média de vendas\n",
            "0  Electronic accessories         $319.63\n",
            "1     Fashion accessories         $305.09\n",
            "2      Food and beverages         $322.67\n",
            "3       Health and beauty         $323.64\n",
            "4      Home and lifestyle         $336.64\n",
            "5       Sports and travel         $332.07\n"
          ]
        }
      ],
      "source": [
        "mean_sales_product_line = df.groupby('Product line')['Total'].mean()\n",
        "mean_sales_product_line = mean_sales_product_line.reset_index()\n",
        "mean_sales_product_line.columns = ['Linha de produto', 'Média de vendas']\n",
        "mean_sales_product_line['Média de vendas'] = mean_sales_product_line['Média de vendas'].apply(lambda x: f\"${x:,.2f}\")\n",
        "\n",
        "print(\"Média de vendas por filial:\")\n",
        "print(mean_sales_product_line)"
      ]
    },
    {
      "cell_type": "markdown",
      "metadata": {
        "id": "HoHe9sUck1MP"
      },
      "source": [
        "# Análise Descritiva por Filial"
      ]
    },
    {
      "cell_type": "markdown",
      "metadata": {
        "id": "_zHLvoXSkK2J"
      },
      "source": [
        "**Total vendido por Filial:**"
      ]
    },
    {
      "cell_type": "code",
      "execution_count": 8,
      "metadata": {
        "colab": {
          "base_uri": "https://localhost:8080/"
        },
        "id": "SjnC_PZmjkXv",
        "outputId": "8d2e839d-0c12-4e76-ddb2-51b26b585e93"
      },
      "outputs": [
        {
          "name": "stdout",
          "output_type": "stream",
          "text": [
            "  Filial Total de Vendas\n",
            "0      A     $106,200.37\n",
            "1      B     $106,197.67\n",
            "2      C     $110,568.71\n"
          ]
        }
      ],
      "source": [
        "sales_branch = df.groupby('Branch')['Total'].sum()\n",
        "sales_branch = sales_branch.reset_index()\n",
        "sales_branch.columns = ['Filial', 'Total de Vendas']\n",
        "sales_branch['Total de Vendas'] = sales_branch['Total de Vendas'].apply(lambda x: f\"${x:,.2f}\")\n",
        "\n",
        "print(sales_branch)"
      ]
    },
    {
      "cell_type": "markdown",
      "metadata": {
        "id": "D-Ry-42nE7G5"
      },
      "source": [
        "**Média de vendas por Filial:**"
      ]
    },
    {
      "cell_type": "code",
      "execution_count": 9,
      "metadata": {
        "colab": {
          "base_uri": "https://localhost:8080/"
        },
        "id": "DLbCYmxBE15k",
        "outputId": "e243662a-c017-4058-f1ec-b61799c75d99"
      },
      "outputs": [
        {
          "name": "stdout",
          "output_type": "stream",
          "text": [
            "  Filial Média de vendas\n",
            "0      A         $312.35\n",
            "1      B         $319.87\n",
            "2      C         $337.10\n"
          ]
        }
      ],
      "source": [
        "mean_sales_branch = df.groupby('Branch')['Total'].mean()\n",
        "mean_sales_branch = mean_sales_branch.reset_index()\n",
        "mean_sales_branch.columns = ['Filial', 'Média de vendas']\n",
        "mean_sales_branch['Média de vendas'] = mean_sales_branch['Média de vendas'].apply(lambda x: f\"${x:,.2f}\")\n",
        "\n",
        "print(mean_sales_branch)"
      ]
    },
    {
      "cell_type": "markdown",
      "metadata": {
        "id": "nFzlr7zvsnX7"
      },
      "source": [
        "**Quantidade de vendas por Filial:**"
      ]
    },
    {
      "cell_type": "code",
      "execution_count": 10,
      "metadata": {
        "colab": {
          "base_uri": "https://localhost:8080/"
        },
        "id": "9Byg_iJtsbCC",
        "outputId": "7e508fd3-fe3f-40ec-89d7-d00ed9e6f61a"
      },
      "outputs": [
        {
          "name": "stdout",
          "output_type": "stream",
          "text": [
            "Total de vendas de 'A': 1859 unidades\n",
            "Total de vendas de 'C': 1831 unidades\n",
            "Total de vendas de 'B': 1820 unidades\n"
          ]
        }
      ],
      "source": [
        "unique_product_branch = df['Branch'].unique()\n",
        "\n",
        "for product_line in unique_product_branch:\n",
        "\n",
        "  filtered_df = df[df['Branch'] == product_line]\n",
        "\n",
        "  total_quantity = filtered_df['Quantity'].sum()\n",
        "\n",
        "  print(f\"Total de vendas de '{product_line}': {total_quantity} unidades\")"
      ]
    },
    {
      "cell_type": "markdown",
      "metadata": {
        "id": "Vowg-6TjyhMs"
      },
      "source": [
        "# Análise Descritiva por Produto"
      ]
    },
    {
      "cell_type": "markdown",
      "metadata": {
        "id": "1A3Z_XqK0Ozf"
      },
      "source": [
        "**Média de preço dos Produtos:**"
      ]
    },
    {
      "cell_type": "code",
      "execution_count": 11,
      "metadata": {
        "colab": {
          "base_uri": "https://localhost:8080/"
        },
        "id": "DUhme9gBylmH",
        "outputId": "06d84197-afa8-4967-954c-6fc415d85ebf"
      },
      "outputs": [
        {
          "name": "stdout",
          "output_type": "stream",
          "text": [
            "         Linha de Produto Preço médio unitário\n",
            "0  Electronic accessories               $53.55\n",
            "1     Fashion accessories               $57.15\n",
            "2      Food and beverages               $56.01\n",
            "3       Health and beauty               $54.85\n",
            "4      Home and lifestyle               $55.32\n",
            "5       Sports and travel               $56.99\n"
          ]
        }
      ],
      "source": [
        "mean_price_product = df.groupby('Product line')['Unit price'].mean().reset_index()\n",
        "mean_price_product.columns = ['Linha de Produto', 'Preço médio unitário']\n",
        "mean_price_product[\"Preço médio unitário\"] = mean_price_product['Preço médio unitário'].apply(lambda x:f\"${x:,.2f}\")\n",
        "\n",
        "print(mean_price_product)"
      ]
    },
    {
      "cell_type": "markdown",
      "metadata": {
        "id": "bNj_HiKHlC0H"
      },
      "source": [
        "# Análise Descritiva por Cliente"
      ]
    },
    {
      "cell_type": "markdown",
      "metadata": {
        "id": "CpfjeY01ZsNP"
      },
      "source": [
        "**Total vendido por Tipo de Cliente:**"
      ]
    },
    {
      "cell_type": "code",
      "execution_count": 12,
      "metadata": {
        "colab": {
          "base_uri": "https://localhost:8080/"
        },
        "id": "DW7jwhv_YXFW",
        "outputId": "778c46c5-18ea-4ef5-d8d0-698645717fd8"
      },
      "outputs": [
        {
          "name": "stdout",
          "output_type": "stream",
          "text": [
            "  Tipo de Cliente Total de Vendas\n",
            "0          Member     $164,223.44\n",
            "1          Normal     $158,743.30\n"
          ]
        }
      ],
      "source": [
        "sales_customer_type = df.groupby('Customer type')['Total'].sum()\n",
        "sales_customer_type = sales_customer_type.reset_index()\n",
        "sales_customer_type.columns = ['Tipo de Cliente', 'Total de Vendas']\n",
        "sales_customer_type[\"Total de Vendas\"] = sales_customer_type['Total de Vendas'].apply(lambda x:f\"${x:,.2f}\")\n",
        "\n",
        "# Exibir o resultado\n",
        "print(sales_customer_type)"
      ]
    },
    {
      "cell_type": "markdown",
      "metadata": {},
      "source": [
        "**Quantidade vendido por Tipo de Cliente:**"
      ]
    },
    {
      "cell_type": "code",
      "execution_count": 13,
      "metadata": {},
      "outputs": [
        {
          "name": "stdout",
          "output_type": "stream",
          "text": [
            "Total de vendas de 'Member': 2785 unidades\n",
            "Total de vendas de 'Normal': 2725 unidades\n"
          ]
        }
      ],
      "source": [
        "unique_customer_type = df['Customer type'].unique()\n",
        "\n",
        "for customer_type in unique_customer_type:\n",
        "\n",
        "  filtered_df = df[df['Customer type'] == customer_type]\n",
        "\n",
        "  total_quantity = filtered_df['Quantity'].sum()\n",
        "\n",
        "  print(f\"Total de vendas de '{customer_type}': {total_quantity} unidades\")"
      ]
    },
    {
      "cell_type": "markdown",
      "metadata": {},
      "source": [
        "# Análises Temporais"
      ]
    },
    {
      "cell_type": "markdown",
      "metadata": {},
      "source": [
        "**Total vendido Diariamente:**"
      ]
    },
    {
      "cell_type": "code",
      "execution_count": 14,
      "metadata": {},
      "outputs": [
        {
          "name": "stdout",
          "output_type": "stream",
          "text": [
            "         Data Total de Vendas\n",
            "0  2019-01-01       $4,745.18\n",
            "1  2019-01-02       $1,945.50\n",
            "2  2019-01-03       $2,078.13\n",
            "3  2019-01-04       $1,623.69\n",
            "4  2019-01-05       $3,536.68\n",
            "..        ...             ...\n",
            "84 2019-03-26       $1,962.51\n",
            "85 2019-03-27       $2,902.82\n",
            "86 2019-03-28       $2,229.40\n",
            "87 2019-03-29       $4,023.24\n",
            "88 2019-03-30       $4,487.06\n",
            "\n",
            "[89 rows x 2 columns]\n"
          ]
        }
      ],
      "source": [
        "daily_sales = df.groupby('Date')['Total'].sum().reset_index()\n",
        "daily_sales.columns = ['Data', 'Total de Vendas']\n",
        "daily_sales['Total de Vendas'] = daily_sales[\"Total de Vendas\"].apply(lambda x: f\"${x:,.2f}\")\n",
        "\n",
        "print(daily_sales)"
      ]
    },
    {
      "cell_type": "markdown",
      "metadata": {},
      "source": [
        "**Total vendido Mensalmente:**"
      ]
    },
    {
      "cell_type": "code",
      "execution_count": 15,
      "metadata": {},
      "outputs": [
        {
          "name": "stdout",
          "output_type": "stream",
          "text": [
            "       Mês Total de Vendas\n",
            "0  2019-01     $116,291.87\n",
            "1  2019-02      $97,219.37\n",
            "2  2019-03     $109,455.51\n"
          ]
        }
      ],
      "source": [
        "df['Month'] = df['Date'].dt.to_period('M')\n",
        "monthly_sales = df.groupby('Month')['Total'].sum().reset_index()\n",
        "monthly_sales.columns = ['Mês', 'Total de Vendas']\n",
        "monthly_sales['Mês'] = monthly_sales['Mês'].astype(str)\n",
        "monthly_sales['Total de Vendas'] = monthly_sales['Total de Vendas'].apply(lambda x: f\"${x:,.2f}\")\n",
        "\n",
        "print(monthly_sales)"
      ]
    },
    {
      "cell_type": "markdown",
      "metadata": {},
      "source": [
        "**Total vendido por Hora:**"
      ]
    },
    {
      "cell_type": "code",
      "execution_count": 16,
      "metadata": {},
      "outputs": [
        {
          "name": "stdout",
          "output_type": "stream",
          "text": [
            "    Hora Total de Vendas\n",
            "0     10      $31,421.48\n",
            "1     11      $30,377.33\n",
            "2     12      $26,065.88\n",
            "3     13      $34,723.23\n",
            "4     14      $30,828.40\n",
            "5     15      $31,179.51\n",
            "6     16      $25,226.32\n",
            "7     17      $24,445.22\n",
            "8     18      $26,030.34\n",
            "9     19      $39,699.51\n",
            "10    20      $22,969.53\n"
          ]
        }
      ],
      "source": [
        "df['Hour'] = df['Time'].apply(lambda x: x.hour)\n",
        "sales_by_hour = df.groupby('Hour')['Total'].sum().reset_index()\n",
        "sales_by_hour.columns = ['Hora', 'Total de Vendas']\n",
        "sales_by_hour['Total de Vendas'] = sales_by_hour['Total de Vendas'].apply(lambda x: f\"${x:,.2f}\")\n",
        "\n",
        "print(sales_by_hour)"
      ]
    },
    {
      "cell_type": "markdown",
      "metadata": {},
      "source": [
        "# Análise de Pagamento"
      ]
    },
    {
      "cell_type": "markdown",
      "metadata": {},
      "source": [
        "**Métodos de Pagamento Mais Utilizados:**"
      ]
    },
    {
      "cell_type": "code",
      "execution_count": 17,
      "metadata": {},
      "outputs": [
        {
          "name": "stdout",
          "output_type": "stream",
          "text": [
            "  Método de Pagamento  Número de Transações\n",
            "0             Ewallet                   345\n",
            "1                Cash                   344\n",
            "2         Credit card                   311\n"
          ]
        }
      ],
      "source": [
        "payment_methods = df['Payment'].value_counts().reset_index()\n",
        "payment_methods.columns = ['Método de Pagamento', 'Número de Transações']\n",
        "\n",
        "print(payment_methods)"
      ]
    },
    {
      "cell_type": "markdown",
      "metadata": {},
      "source": [
        "**Total de Vendas por Método de Pagamento:**"
      ]
    },
    {
      "cell_type": "code",
      "execution_count": 18,
      "metadata": {},
      "outputs": [
        {
          "name": "stdout",
          "output_type": "stream",
          "text": [
            "  Método de Pagamento Total de Vendas\n",
            "0                Cash     $112,206.57\n",
            "1         Credit card     $100,767.07\n",
            "2             Ewallet     $109,993.11\n"
          ]
        }
      ],
      "source": [
        "sales_payment = df.groupby('Payment')['Total'].sum().reset_index()\n",
        "sales_payment.columns = ['Método de Pagamento', 'Total de Vendas']\n",
        "sales_payment['Total de Vendas'] = sales_payment['Total de Vendas'].apply(lambda x: f\"${x:,.2f}\")\n",
        "\n",
        "print(sales_payment)"
      ]
    },
    {
      "cell_type": "markdown",
      "metadata": {},
      "source": [
        "# Análise de clientes"
      ]
    },
    {
      "cell_type": "markdown",
      "metadata": {},
      "source": [
        "**Distribuição de Clientes por Gênero:**"
      ]
    },
    {
      "cell_type": "code",
      "execution_count": 19,
      "metadata": {},
      "outputs": [
        {
          "name": "stdout",
          "output_type": "stream",
          "text": [
            "   Gênero  Número de Clientes\n",
            "0  Female                 501\n",
            "1    Male                 499\n"
          ]
        }
      ],
      "source": [
        "gender_distribution = df['Gender'].value_counts().reset_index()\n",
        "gender_distribution.columns = ['Gênero', 'Número de Clientes']\n",
        "\n",
        "print(gender_distribution)"
      ]
    },
    {
      "cell_type": "markdown",
      "metadata": {},
      "source": [
        "# Análise de Avaliações"
      ]
    },
    {
      "cell_type": "markdown",
      "metadata": {},
      "source": [
        "**Avaliação Média Geral:**"
      ]
    },
    {
      "cell_type": "code",
      "execution_count": 24,
      "metadata": {},
      "outputs": [
        {
          "name": "stdout",
          "output_type": "stream",
          "text": [
            "A média de avaliação é de 6.97\n"
          ]
        }
      ],
      "source": [
        "mean_rating = df['Rating'].mean()\n",
        "\n",
        "print(f\"A média de avaliação é de {mean_rating:.2f}\")"
      ]
    },
    {
      "cell_type": "markdown",
      "metadata": {},
      "source": [
        "**Avaliação média por Linha de Produto:**"
      ]
    },
    {
      "cell_type": "code",
      "execution_count": 22,
      "metadata": {},
      "outputs": [
        {
          "name": "stdout",
          "output_type": "stream",
          "text": [
            "         Linha de Produto  Média de Avaliação\n",
            "0  Electronic accessories            6.924706\n",
            "1     Fashion accessories            7.029213\n",
            "2      Food and beverages            7.113218\n",
            "3       Health and beauty            7.003289\n",
            "4      Home and lifestyle            6.837500\n",
            "5       Sports and travel            6.916265\n"
          ]
        }
      ],
      "source": [
        "mean_rating_product_line = df.groupby('Product line')['Rating'].mean().reset_index()\n",
        "mean_rating_product_line.columns = ['Linha de Produto', 'Média de Avaliação']\n",
        "\n",
        "print(mean_rating_product_line)"
      ]
    },
    {
      "cell_type": "markdown",
      "metadata": {},
      "source": [
        "**Avaliação média por Filial:**"
      ]
    },
    {
      "cell_type": "code",
      "execution_count": 23,
      "metadata": {},
      "outputs": [
        {
          "name": "stdout",
          "output_type": "stream",
          "text": [
            "  Filial  Avaliação Média\n",
            "0      A         7.027059\n",
            "1      B         6.818072\n",
            "2      C         7.072866\n"
          ]
        }
      ],
      "source": [
        "mean_rating_branch = df.groupby('Branch')['Rating'].mean().reset_index()\n",
        "mean_rating_branch.columns = ['Filial','Avaliação Média']\n",
        "\n",
        "print(mean_rating_branch)"
      ]
    },
    {
      "cell_type": "markdown",
      "metadata": {},
      "source": [
        "**Quantidade de Clientes Satisfeitos e Insatisfeitos:**"
      ]
    },
    {
      "cell_type": "code",
      "execution_count": null,
      "metadata": {},
      "outputs": [
        {
          "name": "stdout",
          "output_type": "stream",
          "text": [
            "Client Satisfaction\n",
            "Satisfeitos      685\n",
            "Insatisfeitos    315\n",
            "Name: count, dtype: int64\n"
          ]
        }
      ],
      "source": [
        "limit_rating = 6.0\n",
        "df['Client Satisfaction'] = df['Rating'].apply(lambda x: 'Insatisfeitos' \n",
        "                                               if x < limit_rating\n",
        "                                               else 'Satisfeitos')\n",
        "\n",
        "# Contar a distribuição de satisfação\n",
        "print(df['Client Satisfaction'].value_counts())"
      ]
    }
  ],
  "metadata": {
    "colab": {
      "provenance": []
    },
    "kernelspec": {
      "display_name": "Python 3",
      "name": "python3"
    },
    "language_info": {
      "codemirror_mode": {
        "name": "ipython",
        "version": 3
      },
      "file_extension": ".py",
      "mimetype": "text/x-python",
      "name": "python",
      "nbconvert_exporter": "python",
      "pygments_lexer": "ipython3",
      "version": "3.13.2"
    }
  },
  "nbformat": 4,
  "nbformat_minor": 0
}
